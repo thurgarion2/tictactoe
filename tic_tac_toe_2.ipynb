{
 "cells": [
  {
   "cell_type": "code",
   "execution_count": 5,
   "id": "d167df70-d140-44db-bb51-0a1dc484ce20",
   "metadata": {},
   "outputs": [],
   "source": [
    "import numpy as np\n",
    "from matplotlib import pyplot as plt\n",
    "import seaborn as sns\n",
    "from tqdm import tqdm\n",
    "\n",
    "from tic_env import TictactoeEnv, OptimalPlayer"
   ]
  },
  {
   "cell_type": "code",
   "execution_count": 6,
   "id": "2cd518e2-e4c1-499f-91f5-1ce22f67b693",
   "metadata": {},
   "outputs": [],
   "source": [
    "import torch\n",
    "import torch.nn as nn\n",
    "import torch.optim as optim\n",
    "from collections import namedtuple, deque \n",
    "from random import random, sample, randint"
   ]
  },
  {
   "cell_type": "code",
   "execution_count": 28,
   "id": "a2b91d20-44ad-4f49-9ed8-384097839223",
   "metadata": {},
   "outputs": [],
   "source": [
    "def valid_move(grid, move):\n",
    "    return grid[(move//3,move%3)] == 0\n",
    "\n",
    "def act(model, grid, epsilon):\n",
    "    return act_random(grid) if random()<epsilon else act_optimal(model,grid)\n",
    "\n",
    "def act_random(grid):\n",
    "    actions = [i for i in range(9) if valid_move(grid,i)]\n",
    "    return actions[randint(0,len(actions)-1)]\n",
    "\n",
    "def act_optimal(model, grid):\n",
    "     with torch.no_grad():\n",
    "            actions_reward = model(grid_to_state(grid))\n",
    "            return torch.argmax(actions_reward).item()\n",
    "\n",
    "        \n",
    "def push(memory, last_state, last_move, grid, reward):\n",
    "    if last_move is not None and last_state is not None:\n",
    "        memory.push(last_state, last_move, grid, reward)\n",
    "    \n",
    "\n",
    "def grid_to_state(grid):\n",
    "    return torch.tensor(np.stack([grid>0,grid<0])).float().view(1,-1)\n",
    "\n",
    "def network():\n",
    "    return nn.Sequential(nn.Linear(9*2,128),\n",
    "                                  nn.ReLU(inplace=True),\n",
    "                                  nn.Linear(128,128),\n",
    "                                  nn.ReLU(inplace=True),\n",
    "                                  nn.Linear(128,9))\n",
    "\n",
    "#######from pytroch tutorial\n",
    "Transition = namedtuple('Transition',\n",
    "                        ('state', 'action', 'next_state', 'reward'))\n",
    "\n",
    "class ReplayMemory:\n",
    "\n",
    "    def __init__(self, capacity):\n",
    "        self.memory = deque([],maxlen=capacity)\n",
    "\n",
    "    def push(self, *args):\n",
    "        \"\"\"Save a transition\"\"\"\n",
    "        self.memory.append(Transition(*args))\n",
    "\n",
    "    def sample(self, batch_size):\n",
    "        return sample(self.memory, batch_size)\n",
    "\n",
    "    def __len__(self):\n",
    "        return len(self.memory)\n",
    "    "
   ]
  },
  {
   "cell_type": "code",
   "execution_count": 29,
   "id": "6f2f8f2d-ee90-4c52-94ed-4f878a4c056d",
   "metadata": {},
   "outputs": [],
   "source": [
    "def train_deep_q(epsilon=0.1, optimal_epsilon=0.5, buffer_size=10000, batch_size=64, nb_games = 20000, update_length = 500, average_length = 250.0):\n",
    "    Turns = np.array(['X','O'])\n",
    "    \n",
    "    policy_net = network()\n",
    "    target_net = network()\n",
    "    target_net.load_state_dict(policy_net.state_dict())\n",
    "    target_net.eval()\n",
    "    \n",
    "    \n",
    "    memory = ReplayMemory(buffer_size)\n",
    "    \n",
    "    optimizer = optim.Adam(policy_net.parameters(), lr=5e-4)\n",
    "    criterion = nn.HuberLoss()\n",
    "    \n",
    "    optimal = OptimalPlayer(epsilon=0.5, player=Turns[0])\n",
    "\n",
    "    optimize_m = lambda  : optimize_model(policy_net, target_net, memory ,  optimizer, criterion, batch_size = batch_size, gamma=0.99)\n",
    "    \n",
    "    average_loss = []\n",
    "    average_reward = []\n",
    " \n",
    "    \n",
    "    rewards = 0\n",
    "    loss = 0\n",
    "  \n",
    "    for i in tqdm(range(nb_games)):\n",
    "        optimal.player = Turns[np.mod(i,2)]\n",
    "        \n",
    "        (mean_loss, reward_) = train_on_a_game(optimal, policy_net, epsilon, Turns[np.mod(i+1,2)], optimize_m, memory)\n",
    "        \n",
    "        loss += mean_loss\n",
    "        rewards += reward_\n",
    "        \n",
    "        \n",
    "        if np.mod(i+1,update_length) == 0:\n",
    "            target_net.load_state_dict(policy_net.state_dict())\n",
    "        \n",
    "        if np.mod(i+1,average_length) == 0:\n",
    "            average_loss.append(loss/average_length)\n",
    "            average_reward.append(rewards/average_length)\n",
    "            loss = 0\n",
    "            rewards = 0\n",
    "           \n",
    "    return average_loss, average_reward\n",
    "\n",
    "\n",
    "def train_on_a_game(optimal, model, epsilon, model_turn, optimize_model, memory):\n",
    "    env = TictactoeEnv()\n",
    "    grid, _, __ = env.observe()\n",
    "    \n",
    "    sum_loss= 0\n",
    "    nb_updates = 0\n",
    "    \n",
    "    last_move = None\n",
    "    last_state = None\n",
    "    \n",
    "    for j in range(9):\n",
    "            \n",
    "            if env.current_player == model_turn:\n",
    "                move =  act(model, grid, epsilon)\n",
    "               \n",
    "                push(memory, last_state, last_move, grid, 0)\n",
    "                last_move = move\n",
    "                last_state = grid\n",
    "                    \n",
    "            else:\n",
    "                move = optimal.act(grid)\n",
    "                move = move[0]*3+move[1]\n",
    "                \n",
    "          \n",
    "            sum_loss += optimize_model()\n",
    "            nb_updates += 1\n",
    "            \n",
    "            \n",
    "            \n",
    "            if not valid_move(grid,move):\n",
    "                push(memory, last_state, last_move, None, -1)\n",
    "                return sum_loss/max(1,nb_updates), -1\n",
    "            \n",
    "                \n",
    "            grid, end, winner = env.step(move, print_grid=False)\n",
    "            \n",
    " \n",
    "            \n",
    "            if end:\n",
    "                reward = env.reward(player=model_turn)\n",
    "                push(memory, last_state, last_move, None, reward)\n",
    "                return sum_loss/max(1,nb_updates), reward\n",
    "                \n",
    "\n",
    "def optimize_model(policy_net, target_net, memory , optim, criterion, batch_size, gamma=0.99):\n",
    "    ##### inspired from :: https://pytorch.org/tutorials/intermediate/reinforcement_q_learning.html\n",
    "    if len(memory)<batch_size:\n",
    "        return 0\n",
    "    \n",
    "    transitions = memory.sample(batch_size)\n",
    "    batch = Transition(*zip(*transitions))\n",
    "\n",
    "    # Compute a mask of non-final states and concatenate the batch elements\n",
    "    # (a final state would've been the one after which simulation ended)\n",
    "  \n",
    "   \n",
    "    \n",
    "    state_batch = torch.cat(list(map(lambda x : grid_to_state(x), batch.state)))\n",
    "    action_batch = torch.tensor(batch.action).unsqueeze(1)\n",
    "    reward_batch = torch.tensor(batch.reward).unsqueeze(1)\n",
    "\n",
    " \n",
    "\n",
    "    state_action_values = policy_net(state_batch).gather(1, action_batch)\n",
    "    \n",
    "\n",
    "    # Compute V(s_{t+1}) for all next states.\n",
    "    # Expected values of actions for non_final_next_states are computed based\n",
    "    # on the \"older\" target_net; selecting their best reward with max(1)[0].\n",
    "    # This is merged based on the mask, such that we'll have either the expected\n",
    "    # state value or 0 in case the state was final.\n",
    "    with torch.no_grad():\n",
    "        next_state_values = torch.zeros(batch_size)\n",
    "        \n",
    "        non_none_states = [grid_to_state(s) for s in batch.next_state if s is not None]\n",
    "        if len(non_none_states)>0:\n",
    "            non_final_mask = torch.tensor(tuple(map(lambda s: s is not None, batch.next_state)), dtype=torch.bool) \n",
    "            non_final_next_states = torch.cat(non_none_states) \n",
    "            next_state_values[non_final_mask] = target_net(non_final_next_states).max(1)[0]\n",
    "            \n",
    "        next_state_values = next_state_values.view((-1,1))\n",
    "      \n",
    "    \n",
    "    # Compute the expected Q values\n",
    "    expected_state_action_values = (next_state_values * gamma) + reward_batch\n",
    "\n",
    "\n",
    "    # Compute Huber loss\n",
    "\n",
    "    loss = criterion(state_action_values, expected_state_action_values)\n",
    "    \n",
    "    # Optimize the model\n",
    "    optim.zero_grad()\n",
    "    loss.backward()\n",
    "   \n",
    "    #for param in policy_net.parameters():\n",
    "    #    param.grad.data.clamp_(-1, 1)\n",
    "    optim.step()\n",
    "   \n",
    "   \n",
    "    return loss.item()\n",
    "    "
   ]
  },
  {
   "cell_type": "code",
   "execution_count": 33,
   "id": "dff1ef88-d642-448b-a38a-f064b8b047b8",
   "metadata": {},
   "outputs": [
    {
     "name": "stderr",
     "output_type": "stream",
     "text": [
      "100%|█████████████████████████████████████████| 500/500 [00:08<00:00, 57.78it/s]\n"
     ]
    }
   ],
   "source": [
    "average_loss, average_reward = train_deep_q(nb_games=500, batch_size=1, buffer_size=1)"
   ]
  },
  {
   "cell_type": "code",
   "execution_count": 34,
   "id": "cead3721-d285-491e-9edd-c1c9086ede81",
   "metadata": {
    "tags": []
   },
   "outputs": [
    {
     "data": {
      "text/plain": [
       "[<matplotlib.lines.Line2D at 0x7f005a2623e0>]"
      ]
     },
     "execution_count": 34,
     "metadata": {},
     "output_type": "execute_result"
    },
    {
     "data": {
      "image/png": "[encoded data removed]",
      "text/plain": [
       "<Figure size 432x288 with 1 Axes>"
      ]
     },
     "metadata": {
      "needs_background": "light"
     },
     "output_type": "display_data"
    }
   ],
   "source": [
    "plt.plot(average_loss)"
   ]
  },
  {
   "cell_type": "code",
   "execution_count": 35,
   "id": "ae2d71b5-ee57-4bf6-bb32-9a63e12bca62",
   "metadata": {},
   "outputs": [
    {
     "data": {
      "text/plain": [
       "[<matplotlib.lines.Line2D at 0x7f005a21fbb0>]"
      ]
     },
     "execution_count": 35,
     "metadata": {},
     "output_type": "execute_result"
    },
    {
     "data": {
      "image/png": "[encoded data removed]",
      "text/plain": [
       "<Figure size 432x288 with 1 Axes>"
      ]
     },
     "metadata": {
      "needs_background": "light"
     },
     "output_type": "display_data"
    }
   ],
   "source": [
    "plt.plot(average_reward)"
   ]
  },
  {
   "cell_type": "code",
   "execution_count": 36,
   "id": "b4f13277-b79f-443d-9b08-95298931704f",
   "metadata": {},
   "outputs": [],
   "source": [
    "def compute_M(model, epsilon, n_games = 500):\n",
    "    Turns = np.array(['X','O'])\n",
    "    env = TictactoeEnv()\n",
    "\n",
    "\n",
    "    deep_q_turn = Turns[0]\n",
    "    win_minus_loss = 0\n",
    "    \n",
    "    player_opt = OptimalPlayer(epsilon=epsilon, player=Turns[1])\n",
    "    \n",
    "    for i in range(n_games):\n",
    "        grid, _, __ = env.observe()\n",
    "        \n",
    "        #QPlayer plays first for the first 250 games and we switch to the optimal player after n_games/2 games\n",
    "        if i == n_games//2 :\n",
    "            player_opt.player = Turns[0]\n",
    "            deep_q_turn = Turns[1]\n",
    "        \n",
    "        for j in range(9):\n",
    "            if env.current_player == player_opt.player:\n",
    "                move = player_opt.act(grid)\n",
    "                move = move[0]*3+move[1]\n",
    "            else:\n",
    "                with torch.no_grad():\n",
    "                    move = act_optimal(model, grid)\n",
    "            \n",
    "           \n",
    "            if not valid_move(grid,move):\n",
    "                win_minus_loss -= 1\n",
    "                env.reset()\n",
    "                break\n",
    "\n",
    "            grid, end, winner = env.step(move, print_grid=False)\n",
    "        \n",
    "           \n",
    "\n",
    "            if end:\n",
    "                win_minus_loss += env.reward(player=deep_q_turn)\n",
    "                        \n",
    "                env.reset()\n",
    "                break\n",
    "    \n",
    "   \n",
    "    return (win_minus_loss)/n_games"
   ]
  },
  {
   "cell_type": "code",
   "execution_count": 41,
   "id": "ddf41e20-626b-49f8-852b-c3386bb3f101",
   "metadata": {},
   "outputs": [],
   "source": [
    "def epsilon(n, n_star, epsilon_min = 0.1, epsilon_max = 0.8):\n",
    "    return np.maximum(epsilon_min, epsilon_max*(1-n/n_star))\n",
    "\n",
    "def train_deep_q_epsilon_star(n_star=1, optimal_epsilon=0.5, buffer_size=10000, batch_size=64, nb_games = 20000, update_length = 500, average_length = 250.0):\n",
    "    Turns = np.array(['X','O'])\n",
    "    \n",
    "    policy_net = network()\n",
    "    target_net = network()\n",
    "    target_net.load_state_dict(policy_net.state_dict())\n",
    "    target_net.eval()\n",
    "    \n",
    "    \n",
    "    memory = ReplayMemory(buffer_size)\n",
    "    \n",
    "    optimizer = optim.Adam(policy_net.parameters(), lr=5e-4)\n",
    "    criterion = nn.HuberLoss()\n",
    "    \n",
    "    optimal = OptimalPlayer(epsilon=0.5, player=Turns[0])\n",
    "\n",
    "    optimize_m = lambda  : optimize_model(policy_net, target_net, memory ,  optimizer, criterion, batch_size = batch_size, gamma=0.99)\n",
    "    \n",
    "    M_opts =  []\n",
    "    M_rands = [] \n",
    "  \n",
    "    for i in tqdm(range(nb_games)):\n",
    "        optimal.player = Turns[np.mod(i,2)]\n",
    "        \n",
    "        train_on_a_game(optimal, policy_net, epsilon(i, n_star), Turns[np.mod(i+1,2)], optimize_m, memory)\n",
    "        \n",
    "      \n",
    "        \n",
    "        \n",
    "        if np.mod(i+1,update_length) == 0:\n",
    "            target_net.load_state_dict(policy_net.state_dict())\n",
    "        \n",
    "        if np.mod(i+1,average_length) == 0:\n",
    "            M_opts.append(compute_M(policy_net,0))\n",
    "            M_rands.append(compute_M(policy_net,1))\n",
    "\n",
    "           \n",
    "           \n",
    "    return M_opts, M_rands"
   ]
  },
  {
   "cell_type": "code",
   "execution_count": 42,
   "id": "170ee9a5-94a8-437c-8149-0db63f7eaf6e",
   "metadata": {},
   "outputs": [
    {
     "name": "stderr",
     "output_type": "stream",
     "text": [
      "100%|█████████████████████████████████████████| 500/500 [01:01<00:00,  8.12it/s]\n"
     ]
    }
   ],
   "source": [
    "M_opts, M_rands = train_deep_q_epsilon_star(n_star=1, optimal_epsilon=0.5, average_length = 100, nb_games = 500)"
   ]
  },
  {
   "cell_type": "code",
   "execution_count": 43,
   "id": "47948fad-47fb-415b-9922-8e08bfb677d6",
   "metadata": {},
   "outputs": [
    {
     "data": {
      "text/plain": [
       "[<matplotlib.lines.Line2D at 0x7f005a25dd20>]"
      ]
     },
     "execution_count": 43,
     "metadata": {},
     "output_type": "execute_result"
    },
    {
     "data": {
      "image/png": "[encoded data removed]",
      "text/plain": [
       "<Figure size 432x288 with 1 Axes>"
      ]
     },
     "metadata": {
      "needs_background": "light"
     },
     "output_type": "display_data"
    }
   ],
   "source": [
    "plt.plot(M_opts)"
   ]
  },
  {
   "cell_type": "code",
   "execution_count": 44,
   "id": "8bd79e41-6851-40dd-94bd-5d57ca472604",
   "metadata": {},
   "outputs": [
    {
     "data": {
      "text/plain": [
       "[<matplotlib.lines.Line2D at 0x7f005a670430>]"
      ]
     },
     "execution_count": 44,
     "metadata": {},
     "output_type": "execute_result"
    },
    {
     "data": {
      "image/png": "[encoded data removed]",
      "text/plain": [
       "<Figure size 432x288 with 1 Axes>"
      ]
     },
     "metadata": {
      "needs_background": "light"
     },
     "output_type": "display_data"
    }
   ],
   "source": [
    "plt.plot(M_rands)"
   ]
  },
  {
   "cell_type": "code",
   "execution_count": null,
   "id": "194e1750-4271-45ad-937a-dbdafc29be37",
   "metadata": {},
   "outputs": [],
   "source": []
  }
 ],
 "metadata": {
  "kernelspec": {
   "display_name": "Python 3 (ipykernel)",
   "language": "python",
   "name": "python3"
  },
  "language_info": {
   "codemirror_mode": {
    "name": "ipython",
    "version": 3
   },
   "file_extension": ".py",
   "mimetype": "text/x-python",
   "name": "python",
   "nbconvert_exporter": "python",
   "pygments_lexer": "ipython3",
   "version": "3.10.4"
  }
 },
 "nbformat": 4,
 "nbformat_minor": 5
}
