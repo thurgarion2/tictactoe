{
 "cells": [
  {
   "cell_type": "code",
   "execution_count": 1,
   "id": "d167df70-d140-44db-bb51-0a1dc484ce20",
   "metadata": {},
   "outputs": [],
   "source": [
    "import numpy as np\n",
    "from matplotlib import pyplot as plt\n",
    "import seaborn as sns\n",
    "from tqdm import tqdm\n",
    "\n",
    "from tic_env import TictactoeEnv, OptimalPlayer"
   ]
  },
  {
   "cell_type": "code",
   "execution_count": 6,
   "id": "2cd518e2-e4c1-499f-91f5-1ce22f67b693",
   "metadata": {},
   "outputs": [],
   "source": [
    "import torch\n",
    "import torch.nn as nn\n",
    "import torch.optim as optim\n",
    "from collections import namedtuple, deque \n",
    "from random import random, sample, randint"
   ]
  },
  {
   "cell_type": "code",
   "execution_count": 114,
   "id": "a2b91d20-44ad-4f49-9ed8-384097839223",
   "metadata": {},
   "outputs": [],
   "source": [
    "def valid_move(grid, move):\n",
    "    return grid[(move//3,move%3)] == 0\n",
    "\n",
    "class DeepQLearner:\n",
    "\n",
    "    def __init__(self, network, replayBuffer, epsilon=0.1):\n",
    "        self.epsilon=epsilon\n",
    "        \n",
    "        self.model = network\n",
    "        self.replayBuffer =  replayBuffer \n",
    "        self.last_state = None\n",
    "        self.last_action = None\n",
    "            \n",
    "    \n",
    "    def act(self, grid):\n",
    "        move = self._act_random(grid) if random()<self.epsilon else self._act_optimal(grid)\n",
    "        \n",
    "        self.push(grid,0)\n",
    "        self.last_state = grid\n",
    "        self.last_action = move\n",
    "        return move\n",
    "    \n",
    "    \n",
    "    def update_epsilon(self, new_epsilon):\n",
    "        self.epsilon = new_epsilon\n",
    "    \n",
    "    def _act_optimal(self, grid):\n",
    "        with torch.no_grad():\n",
    "            actions_reward = self.model(grid_to_state(grid))\n",
    "            return torch.argmax(actions_reward).item()\n",
    "        \n",
    "        \n",
    "    def _act_random(self, grid):\n",
    "        actions = [i for i in range(9) if valid_move(grid,i)]\n",
    "        return actions[randint(0,len(actions)-1)]\n",
    "    \n",
    "    def update_qvalue_end(self, reward=0):\n",
    "        ### shall we add the end state\n",
    "        self.push(None, reward)\n",
    "    \n",
    "    def push(self, state, reward):\n",
    "        if self.last_action is not None and self.last_state is not None:\n",
    "            self.replayBuffer.push( self.last_state, self.last_action, state, reward)\n",
    "\n",
    "def network():\n",
    "    return nn.Sequential(nn.Linear(9*2,128),\n",
    "                                  nn.ReLU(inplace=True),\n",
    "                                  nn.Linear(128,128),\n",
    "                                  nn.ReLU(inplace=True),\n",
    "                                  nn.Linear(128,9))\n",
    "\n",
    "def grid_to_state(grid):\n",
    "    return torch.tensor(np.stack([grid>0,grid<0])).float().view(1,-1)\n",
    "\n",
    "#######from pytroch tutorial\n",
    "Transition = namedtuple('Transition',\n",
    "                        ('state', 'action', 'next_state', 'reward'))\n",
    "\n",
    "class ReplayMemory:\n",
    "\n",
    "    def __init__(self, capacity):\n",
    "        self.memory = deque([],maxlen=capacity)\n",
    "\n",
    "    def push(self, *args):\n",
    "        \"\"\"Save a transition\"\"\"\n",
    "        self.memory.append(Transition(*args))\n",
    "\n",
    "    def sample(self, batch_size):\n",
    "        return sample(self.memory, batch_size)\n",
    "\n",
    "    def __len__(self):\n",
    "        return len(self.memory)"
   ]
  },
  {
   "cell_type": "code",
   "execution_count": 27,
   "id": "4bdfdaaa-e8ad-47e7-b473-8b160125eb6c",
   "metadata": {},
   "outputs": [
    {
     "data": {
      "text/plain": [
       "array([[ 1., -1.,  0.],\n",
       "       [ 0.,  0.,  0.],\n",
       "       [ 0.,  0.,  0.]])"
      ]
     },
     "execution_count": 27,
     "metadata": {},
     "output_type": "execute_result"
    }
   ],
   "source": [
    "env = TictactoeEnv()\n",
    "env.step(0)\n",
    "grid,_,_ = env.step(1)\n",
    "grid"
   ]
  },
  {
   "cell_type": "code",
   "execution_count": 28,
   "id": "1bbac6e1-1062-4630-bd13-50ed6ee5efad",
   "metadata": {},
   "outputs": [
    {
     "data": {
      "text/plain": [
       "tensor([[1., 0., 0., 0., 0., 0., 0., 0., 0., 0., 1., 0., 0., 0., 0., 0., 0., 0.]])"
      ]
     },
     "execution_count": 28,
     "metadata": {},
     "output_type": "execute_result"
    }
   ],
   "source": [
    "grid_to_state(grid)"
   ]
  },
  {
   "cell_type": "code",
   "execution_count": 175,
   "id": "6f2f8f2d-ee90-4c52-94ed-4f878a4c056d",
   "metadata": {},
   "outputs": [],
   "source": [
    "def train_deep_q_player(optimal_epsilon=0.5, update_length = 500, average_length = 250.0):\n",
    "    Turns = np.array(['X','O'])\n",
    "    \n",
    "    policy_net = network()\n",
    "    target_net = network()\n",
    "    target_net.load_state_dict(policy_net.state_dict())\n",
    "    target_net.eval()\n",
    "    replayBuffer = ReplayMemory(10000)\n",
    "    \n",
    "    optimizer = optim.Adam(policy_net.parameters(), lr=5e-4)\n",
    "    criterion = nn.HuberLoss()\n",
    "    \n",
    "    deep_q = DeepQLearner(policy_net, replayBuffer, epsilon=0.8)\n",
    "    optimal = OptimalPlayer(epsilon=0.5, player=Turns[0])\n",
    "\n",
    "    optimize_deep_q_player = lambda  : update_deep_q_player(policy_net, target_net, replayBuffer ,  optimizer, criterion, batch_size = 64, gamma=0.99)\n",
    "    \n",
    "    average_loss = []\n",
    "    average_reward = []\n",
    "    average_non_valid = []\n",
    "    \n",
    "    rewards = 0\n",
    "    loss = 0\n",
    "    non_valid = 0\n",
    "    \n",
    "    for i in tqdm(range(5000)):\n",
    "        optimal.player = Turns[np.mod(i,2)]\n",
    "        \n",
    "        (loss_, reward_, non_valid_) = play_against_optimal(optimal, deep_q, optimize_deep_q_player, Turns[np.mod(i+1,2)])\n",
    "        \n",
    "        loss += sum(loss_)/len(loss_) if len(loss_)>0 else 0\n",
    "        rewards += reward_\n",
    "        non_valid +=  non_valid_\n",
    "        \n",
    "        \n",
    "        if np.mod(i+1,update_length) == 0:\n",
    "            target_net.load_state_dict(policy_net.state_dict())\n",
    "        \n",
    "        if np.mod(i+1,average_length) == 0:\n",
    "            average_loss.append(loss/average_length)\n",
    "            average_reward.append(rewards/average_length)\n",
    "            average_non_valid.append(non_valid/250)\n",
    "            loss = 0\n",
    "            rewards = 0\n",
    "            non_valid = 0\n",
    "    \n",
    "    return average_loss, average_reward, average_non_valid, deep_q\n",
    "\n",
    "\n",
    "def play_against_optimal(optimal, deep_q, update_deep_q_player, deep_q_turn):\n",
    "    env = TictactoeEnv()\n",
    "    grid, _, __ = env.observe()\n",
    "    losses = []\n",
    "    \n",
    "    for j in range(9):\n",
    "            \n",
    "            if env.current_player == deep_q_turn:\n",
    "                move =  deep_q.act(grid)\n",
    "            else:\n",
    "                move = optimal.act(grid)\n",
    "                move = move[0]*3+move[1]\n",
    "            \n",
    "            \n",
    "            if not valid_move(grid,move):\n",
    "                ## je crois que c'est juste\n",
    "                deep_q.update_qvalue_end(-1)\n",
    "                return losses, -1, 1\n",
    "            \n",
    "            ###tester if buffer has enough samples\n",
    "         \n",
    "            if len(deep_q.replayBuffer)>=64:\n",
    "                losses.append(update_deep_q_player())\n",
    "            grid, end, winner = env.step(move, print_grid=False)\n",
    "            \n",
    " \n",
    "            \n",
    "            if end:\n",
    "                    \n",
    "                reward = env.reward(player=deep_q_turn)\n",
    "                deep_q.update_qvalue_end(reward)\n",
    "                return losses, reward, 0\n",
    "                \n",
    "\n",
    "def update_deep_q_player(policy_net, target_net, replayBuffer , optim, criterion, batch_size = 64, gamma=0.99):\n",
    "    ##### inspired from :: https://pytorch.org/tutorials/intermediate/reinforcement_q_learning.html\n",
    "\n",
    "    transitions = replayBuffer.sample(batch_size)\n",
    "   \n",
    "    \n",
    "    batch = Transition(*zip(*transitions))\n",
    "\n",
    "    # Compute a mask of non-final states and concatenate the batch elements\n",
    "    # (a final state would've been the one after which simulation ended)\n",
    "    non_final_mask = torch.tensor(tuple(map(lambda s: s is not None,\n",
    "                                          batch.next_state)), dtype=torch.bool)\n",
    "    \n",
    "    \n",
    "    non_final_next_states = torch.cat([grid_to_state(s) for s in batch.next_state\n",
    "                                                if s is not None])\n",
    " \n",
    "    \n",
    "    state_batch = torch.cat(list(map(lambda x : grid_to_state(x), batch.state)))\n",
    "    action_batch = torch.tensor(batch.action).unsqueeze(1)\n",
    "    reward_batch = torch.tensor(batch.reward).unsqueeze(1)\n",
    "\n",
    " \n",
    "\n",
    "    state_action_values = policy_net(state_batch).gather(1, action_batch)\n",
    "    \n",
    "\n",
    "    # Compute V(s_{t+1}) for all next states.\n",
    "    # Expected values of actions for non_final_next_states are computed based\n",
    "    # on the \"older\" target_net; selecting their best reward with max(1)[0].\n",
    "    # This is merged based on the mask, such that we'll have either the expected\n",
    "    # state value or 0 in case the state was final.\n",
    "    with torch.no_grad():\n",
    "        next_state_values = torch.zeros(batch_size)\n",
    "        next_state_values[non_final_mask] = target_net(non_final_next_states).max(1)[0]\n",
    "        next_state_values = next_state_values.view((-1,1))\n",
    "      \n",
    "    \n",
    "    # Compute the expected Q values\n",
    "    expected_state_action_values = (next_state_values * gamma) + reward_batch\n",
    "\n",
    "\n",
    "    # Compute Huber loss\n",
    "\n",
    "    loss = criterion(state_action_values, expected_state_action_values)\n",
    "    \n",
    "    #print('new optimize')\n",
    "    #print(non_final_mask.shape)\n",
    "    #print(non_final_next_states.shape)\n",
    "    #print(state_batch.shape)\n",
    "    #print(reward_batch.shape)\n",
    "    #print(action_batch.shape)\n",
    "    #print( state_action_values.shape)\n",
    "    #print(next_state_values.shape)\n",
    "    \n",
    "    #print(state_action_values[:10])\n",
    "    #print(expected_state_action_values.shape)\n",
    "    #print(expected_state_action_values[:10])\n",
    "    \n",
    "    # Optimize the model\n",
    "    optim.zero_grad()\n",
    "    loss.backward()\n",
    "   \n",
    "    #for param in policy_net.parameters():\n",
    "    #    param.grad.data.clamp_(-1, 1)\n",
    "    optim.step()\n",
    "    #print(policy_net(state_batch).gather(1, action_batch)[:10])\n",
    "   \n",
    "    return loss.item()"
   ]
  },
  {
   "cell_type": "code",
   "execution_count": 176,
   "id": "dff1ef88-d642-448b-a38a-f064b8b047b8",
   "metadata": {},
   "outputs": [
    {
     "name": "stderr",
     "output_type": "stream",
     "text": [
      "100%|███████████████████████████████████████| 5000/5000 [03:27<00:00, 24.08it/s]\n"
     ]
    }
   ],
   "source": [
    "average_loss, average_reward, average_non_valid, deep_q = train_deep_q_player()"
   ]
  },
  {
   "cell_type": "code",
   "execution_count": 177,
   "id": "cead3721-d285-491e-9edd-c1c9086ede81",
   "metadata": {},
   "outputs": [
    {
     "data": {
      "text/plain": [
       "[<matplotlib.lines.Line2D at 0x7f8deb65c760>]"
      ]
     },
     "execution_count": 177,
     "metadata": {},
     "output_type": "execute_result"
    },
    {
     "data": {
      "image/png": "[encoded data removed]",
      "text/plain": [
       "<Figure size 432x288 with 1 Axes>"
      ]
     },
     "metadata": {
      "needs_background": "light"
     },
     "output_type": "display_data"
    }
   ],
   "source": [
    "plt.plot(average_non_valid)"
   ]
  },
  {
   "cell_type": "code",
   "execution_count": 178,
   "id": "ae2d71b5-ee57-4bf6-bb32-9a63e12bca62",
   "metadata": {},
   "outputs": [
    {
     "data": {
      "text/plain": [
       "[<matplotlib.lines.Line2D at 0x7f8deb3b0f10>]"
      ]
     },
     "execution_count": 178,
     "metadata": {},
     "output_type": "execute_result"
    },
    {
     "data": {
      "image/png": "[encoded data removed]",
      "text/plain": [
       "<Figure size 432x288 with 1 Axes>"
      ]
     },
     "metadata": {
      "needs_background": "light"
     },
     "output_type": "display_data"
    }
   ],
   "source": [
    "plt.plot(average_loss)"
   ]
  },
  {
   "cell_type": "code",
   "execution_count": 179,
   "id": "0657d9ea-bea3-4641-808e-58f1f2a4a0b9",
   "metadata": {},
   "outputs": [
    {
     "data": {
      "text/plain": [
       "[<matplotlib.lines.Line2D at 0x7f8deb3ebe80>]"
      ]
     },
     "execution_count": 179,
     "metadata": {},
     "output_type": "execute_result"
    },
    {
     "data": {
      "image/png": "[encoded data removed]",
      "text/plain": [
       "<Figure size 432x288 with 1 Axes>"
      ]
     },
     "metadata": {
      "needs_background": "light"
     },
     "output_type": "display_data"
    }
   ],
   "source": [
    "plt.plot(average_reward)"
   ]
  },
  {
   "cell_type": "code",
   "execution_count": null,
   "id": "ddf41e20-626b-49f8-852b-c3386bb3f101",
   "metadata": {},
   "outputs": [],
   "source": []
  }
 ],
 "metadata": {
  "kernelspec": {
   "display_name": "Python 3 (ipykernel)",
   "language": "python",
   "name": "python3"
  },
  "language_info": {
   "codemirror_mode": {
    "name": "ipython",
    "version": 3
   },
   "file_extension": ".py",
   "mimetype": "text/x-python",
   "name": "python",
   "nbconvert_exporter": "python",
   "pygments_lexer": "ipython3",
   "version": "3.10.4"
  }
 },
 "nbformat": 4,
 "nbformat_minor": 5
}
