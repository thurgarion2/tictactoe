{
 "cells": [
  {
   "cell_type": "code",
   "execution_count": 7,
   "id": "d167df70-d140-44db-bb51-0a1dc484ce20",
   "metadata": {},
   "outputs": [],
   "source": [
    "import numpy as np\n",
    "from matplotlib import pyplot as plt\n",
    "import seaborn as sns\n",
    "import copy\n",
    "\n",
    "from tic_env import TictactoeEnv, OptimalPlayer"
   ]
  },
  {
   "cell_type": "code",
   "execution_count": 8,
   "id": "2b4057d5-b47a-4e8a-9cc5-8891579f5f6a",
   "metadata": {},
   "outputs": [],
   "source": [
    "env = TictactoeEnv()"
   ]
  },
  {
   "cell_type": "code",
   "execution_count": null,
   "id": "2cd518e2-e4c1-499f-91f5-1ce22f67b693",
   "metadata": {},
   "outputs": [],
   "source": []
  },
  {
   "cell_type": "code",
   "execution_count": 9,
   "id": "b9a82889-be21-4276-a8ee-867250ec89d6",
   "metadata": {},
   "outputs": [],
   "source": [
    "from collections import defaultdict\n",
    "from random import randint\n",
    "from random import random\n",
    "    \n",
    "def valid_move(grid, move):\n",
    "    return grid[move] == 0\n",
    "\n",
    "def agrmax(array):\n",
    "    i_max = 0\n",
    "    for i, elem in enumerate(array):\n",
    "        if elem>array[i_max]:\n",
    "            i_max = i\n",
    "    return i_max\n",
    "\n",
    "def grid_repr(grid):\n",
    "    between_0_2 = grid.reshape((9))+1\n",
    "    power_of_3 = 3**np.arange(9)\n",
    "    return (between_0_2*power_of_3).sum()\n",
    "\n",
    "\n",
    "class QLearning():\n",
    "    \n",
    "    def __init__(self, alpha=0.05, gamma=0.99, epsilon=0.1):\n",
    "        self.q_values = defaultdict(lambda : 0)\n",
    "        self.last_grid = None\n",
    "        self.last_action = None\n",
    "\n",
    "        self.alpha=alpha\n",
    "        self.gamma=gamma\n",
    "        self.epsilon=epsilon\n",
    "        \n",
    "        \n",
    "    def act(self, grid):\n",
    "        move = self._act_random(grid) if random()<self.epsilon else self._act_optimal(grid)\n",
    "        self._update_qvalue(grid, move)\n",
    "        \n",
    "       \n",
    "        return move\n",
    "    \n",
    "    \n",
    "    def _act_optimal(self, grid):\n",
    "        actions = [(x,y) for x in range(3) for y in range(3) if valid_move(grid, (x,y))]\n",
    "        actions_values = list([self.q_value(grid, a) for a in actions])\n",
    "        \n",
    "        move = actions[agrmax(actions_values)]\n",
    "        return move\n",
    "        \n",
    "        \n",
    "    def _act_random(self, grid):\n",
    "        actions = [(x,y) for x in range(3) for y in range(3) if valid_move(grid, (x,y))]\n",
    "        move = actions[randint(0,len(actions)-1)]\n",
    "        return move\n",
    "    \n",
    "    def q_value(self, grid, move):\n",
    "        return self.q_values[(grid_repr(grid),move)]\n",
    "    def change_qvalue(self, grid, move, value):\n",
    "        self.q_values[(grid_repr(grid),move)] = value\n",
    "    \n",
    "    \n",
    "    def update_qvalue_end(self, reward=0):\n",
    "        if self.last_grid is not None and self.last_action is not None:\n",
    "            state_action = (self.last_grid,self.last_action)\n",
    "            estimated_q = self.q_value(*state_action)\n",
    "            delta_q = reward  - estimated_q\n",
    "            self.change_qvalue(*state_action, estimated_q+self.alpha*delta_q)\n",
    "          \n",
    "        \n",
    "     \n",
    "        self.last_grid = None\n",
    "        self.last_action = None\n",
    "          \n",
    "    \n",
    "    def _update_qvalue(self,grid, move, reward=0):\n",
    "        if self.last_grid is not None and self.last_action is not None:\n",
    "            action = self._act_optimal(grid)\n",
    "            state_action = (self.last_grid,self.last_action)\n",
    "            estimated_q = self.q_value(*state_action)\n",
    "            delta_q = reward + self.gamma*self.q_value(grid,action) - estimated_q\n",
    "            self.change_qvalue(*state_action, estimated_q+self.alpha*delta_q)\n",
    "        \n",
    "            \n",
    "        self.last_grid = grid\n",
    "        self.last_action = move\n",
    "        \n",
    "    def update_epsilon(self, new_epsilon):\n",
    "        self.epsilon = new_epsilon "
   ]
  },
  {
   "cell_type": "code",
   "execution_count": 15,
   "id": "a064d33f-b145-4f40-925b-66fac53784ff",
   "metadata": {},
   "outputs": [],
   "source": [
    "def compute_M(q_player, epsilon, n_games = 100):\n",
    "    env = TictactoeEnv()\n",
    "    Turns = np.array(['X','O'])\n",
    "    q_player.update_epsilon(new_epsilon = 0)\n",
    "    n_wins = 0\n",
    "    n_loss = 0\n",
    "    \n",
    "    for i in range(n_games):\n",
    "        grid, _, __ = env.observe()\n",
    "        \n",
    "        #QPlayer plays first for the first 250 games\n",
    "        if i < n_games/2 :\n",
    "            player_opt = OptimalPlayer(epsilon=epsilon, player=Turns[1])\n",
    "        else :\n",
    "             player_opt = OptimalPlayer(epsilon=epsilon, player=Turns[0])\n",
    "        \n",
    "        for j in range(9):\n",
    "            if env.current_player == player_opt.player:\n",
    "                move = player_opt.act(grid)\n",
    "            else:\n",
    "                move = q_player.act(grid)\n",
    "\n",
    "            grid, end, winner = env.step(move, print_grid=False)\n",
    "\n",
    "            if end:\n",
    "                if i < n_games/2 :\n",
    "                    if winner == 'X':\n",
    "                        n_wins += 1\n",
    "                    else :\n",
    "                        n_loss += 1\n",
    "                        \n",
    "                else:\n",
    "                    if winner == 'X':\n",
    "                        n_loss += 1\n",
    "                    else:\n",
    "                        n_wins += 1\n",
    "                        \n",
    "                env.reset()\n",
    "                break\n",
    "                \n",
    "    return (n_wins-n_loss)/n_games"
   ]
  },
  {
   "cell_type": "code",
   "execution_count": 63,
   "id": "c8157c3f-ed80-4ca8-b7f4-ce6fef3e0b07",
   "metadata": {},
   "outputs": [],
   "source": [
    "def play_against_self_strategy(epsilon, n_games = 20000, average_length = 250.0):\n",
    "    env = TictactoeEnv()\n",
    "    Turns = np.array(['X','O'])\n",
    "    q_player = QLearning(epsilon = epsilon)\n",
    "    q_copy =  QLearning(epsilon = epsilon)\n",
    "    q_copy.q_values = q_player.q_values\n",
    "  \n",
    "    \n",
    "   \n",
    "    M_opts = [] #list that stores the M_opt for each 'average length' games\n",
    "    M_rands = [] #list that stores the M_opt for each 'average length' games\n",
    "    \n",
    "    for i in range(n_games):\n",
    "        grid, _, __ = env.observe()\n",
    "      \n",
    "       \n",
    "       \n",
    "        q_copy_turn = Turns[np.mod(i,2)] #Switching who starts at each iteration between q_copy and q_player\n",
    "    \n",
    "        for j in range(9):\n",
    "            \n",
    "            if env.current_player == q_copy_turn:\n",
    "                move = q_copy.act(grid)\n",
    "            else:\n",
    "                move = q_player.act(grid)\n",
    "            \n",
    "            grid, end, winner = env.step(move, print_grid=False)\n",
    "            \n",
    " \n",
    "            \n",
    "            if end:\n",
    "                    \n",
    "                q_player_reward = env.reward(player=Turns[np.mod(i+1,2)])\n",
    "                q_copy_reward = env.reward(player=Turns[np.mod(i,2)])\n",
    "              \n",
    "                \n",
    "                if np.mod(i+1, average_length) == 0:\n",
    "                    print(i)\n",
    "                    \n",
    "                    #Computing M_Opt\n",
    "                    M_opts.append(compute_M(q_player, 0.0))\n",
    "                    \n",
    "                    #Computing M_rand\n",
    "                    M_rands.append(compute_M(q_player, 1.0))\n",
    "                    \n",
    "                q_player.update_qvalue_end(reward=q_player_reward)\n",
    "                q_copy.update_qvalue_end(reward=q_copy_reward)\n",
    "\n",
    "                env.reset()\n",
    "                break\n",
    "                \n",
    "    return np.array(M_opts), np.array(M_rands)"
   ]
  },
  {
   "cell_type": "code",
   "execution_count": 64,
   "id": "748597d7-ac8c-48f6-a600-868af04cae6e",
   "metadata": {},
   "outputs": [
    {
     "name": "stdout",
     "output_type": "stream",
     "text": [
      "499\n",
      "999\n",
      "1499\n",
      "1999\n",
      "2499\n",
      "2999\n",
      "3499\n",
      "3999\n",
      "4499\n",
      "4999\n",
      "5499\n",
      "5999\n",
      "6499\n",
      "6999\n",
      "7499\n",
      "7999\n",
      "8499\n",
      "8999\n",
      "9499\n",
      "9999\n",
      "10499\n",
      "10999\n",
      "11499\n",
      "11999\n",
      "12499\n",
      "12999\n",
      "13499\n",
      "13999\n",
      "14499\n",
      "14999\n",
      "15499\n",
      "15999\n",
      "16499\n",
      "16999\n",
      "17499\n",
      "17999\n",
      "18499\n",
      "18999\n",
      "19499\n",
      "19999\n"
     ]
    },
    {
     "data": {
      "text/plain": [
       "[<matplotlib.lines.Line2D at 0x7ff2e4c55be0>]"
      ]
     },
     "execution_count": 64,
     "metadata": {},
     "output_type": "execute_result"
    },
    {
     "data": {
      "image/png": "[encoded data removed]",
      "text/plain": [
       "<Figure size 432x288 with 1 Axes>"
      ]
     },
     "metadata": {
      "needs_background": "light"
     },
     "output_type": "display_data"
    }
   ],
   "source": [
    "##two players sharing weights\n",
    "m_opts, m_rands = play_against_self_strategy(0.5, n_games = 20000, average_length = 500.0)\n",
    "plt.plot(m_opts)"
   ]
  },
  {
   "cell_type": "code",
   "execution_count": 62,
   "id": "fe1fd785-ead7-4899-b68b-49f2eea52f2c",
   "metadata": {},
   "outputs": [
    {
     "name": "stdout",
     "output_type": "stream",
     "text": [
      "499\n",
      "999\n",
      "1499\n",
      "1999\n",
      "2499\n",
      "2999\n",
      "3499\n",
      "3999\n",
      "4499\n",
      "4999\n",
      "5499\n",
      "5999\n",
      "6499\n",
      "6999\n",
      "7499\n",
      "7999\n",
      "8499\n",
      "8999\n",
      "9499\n",
      "9999\n",
      "10499\n",
      "10999\n",
      "11499\n",
      "11999\n",
      "12499\n",
      "12999\n",
      "13499\n",
      "13999\n",
      "14499\n",
      "14999\n",
      "15499\n",
      "15999\n",
      "16499\n",
      "16999\n",
      "17499\n",
      "17999\n",
      "18499\n",
      "18999\n",
      "19499\n",
      "19999\n"
     ]
    },
    {
     "data": {
      "text/plain": [
       "[<matplotlib.lines.Line2D at 0x7ff2e4cd77f0>]"
      ]
     },
     "execution_count": 62,
     "metadata": {},
     "output_type": "execute_result"
    },
    {
     "data": {
      "image/png": "[encoded data removed]",
      "text/plain": [
       "<Figure size 432x288 with 1 Axes>"
      ]
     },
     "metadata": {
      "needs_background": "light"
     },
     "output_type": "display_data"
    }
   ],
   "source": [
    "#two player not sharing weights\n",
    "m_opts, m_rands = play_against_self_strategy(0.1, n_games = 20000, average_length = 500.0)\n",
    "plt.plot(m_opts)"
   ]
  },
  {
   "cell_type": "code",
   "execution_count": 52,
   "id": "7ca9c280-597c-43ad-a02c-985c83101a14",
   "metadata": {},
   "outputs": [],
   "source": [
    "env = TictactoeEnv()\n",
    "Turns = np.array(['X','O'])\n",
    "q_player = QLearning(epsilon = 0.1)\n",
    "q_copy = copy.deepcopy(q_player)"
   ]
  },
  {
   "cell_type": "code",
   "execution_count": 18,
   "id": "e7d493bc-18c8-4f71-933c-7f5ad40a9dd8",
   "metadata": {},
   "outputs": [],
   "source": [
    "grid, _, __ = env.observe()\n",
    "move = q_player.act(grid)\n",
    "grid, end, winner = env.step(move, print_grid=False)"
   ]
  },
  {
   "cell_type": "code",
   "execution_count": 19,
   "id": "bfc0d21a-e327-4928-b471-9f4d4d6e4242",
   "metadata": {},
   "outputs": [
    {
     "name": "stdout",
     "output_type": "stream",
     "text": [
      "|X - -|\n",
      "|- - -|\n",
      "|- - -|\n",
      "\n"
     ]
    }
   ],
   "source": [
    "env.render()"
   ]
  },
  {
   "cell_type": "code",
   "execution_count": 20,
   "id": "3c1207c1-ce42-4c27-9546-8562064ae8da",
   "metadata": {},
   "outputs": [
    {
     "data": {
      "text/plain": [
       "array([[0., 0., 0.],\n",
       "       [0., 0., 0.],\n",
       "       [0., 0., 0.]])"
      ]
     },
     "execution_count": 20,
     "metadata": {},
     "output_type": "execute_result"
    }
   ],
   "source": [
    "q_player.last_grid"
   ]
  },
  {
   "cell_type": "code",
   "execution_count": 22,
   "id": "0fe6b77e-2b80-4b12-8806-f0fe80267e9b",
   "metadata": {},
   "outputs": [],
   "source": [
    "move = q_copy.act(grid)\n",
    "grid, end, winner = env.step(move, print_grid=False)"
   ]
  },
  {
   "cell_type": "code",
   "execution_count": 23,
   "id": "264617b5-ad97-4c8a-9fcb-f8db5e3206f4",
   "metadata": {},
   "outputs": [
    {
     "name": "stdout",
     "output_type": "stream",
     "text": [
      "|X O -|\n",
      "|- - -|\n",
      "|- - -|\n",
      "\n"
     ]
    }
   ],
   "source": [
    "env.render()"
   ]
  },
  {
   "cell_type": "code",
   "execution_count": 27,
   "id": "7370fffe-a37a-4c98-9a36-979b455bef6f",
   "metadata": {},
   "outputs": [
    {
     "data": {
      "text/plain": [
       "(0, 1)"
      ]
     },
     "execution_count": 27,
     "metadata": {},
     "output_type": "execute_result"
    }
   ],
   "source": [
    "q_copy.last_action"
   ]
  },
  {
   "cell_type": "code",
   "execution_count": null,
   "id": "a2b91d20-44ad-4f49-9ed8-384097839223",
   "metadata": {},
   "outputs": [],
   "source": []
  }
 ],
 "metadata": {
  "kernelspec": {
   "display_name": "Python 3 (ipykernel)",
   "language": "python",
   "name": "python3"
  },
  "language_info": {
   "codemirror_mode": {
    "name": "ipython",
    "version": 3
   },
   "file_extension": ".py",
   "mimetype": "text/x-python",
   "name": "python",
   "nbconvert_exporter": "python",
   "pygments_lexer": "ipython3",
   "version": "3.10.4"
  }
 },
 "nbformat": 4,
 "nbformat_minor": 5
}
