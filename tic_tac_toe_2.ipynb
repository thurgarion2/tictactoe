{
 "cells": [
  {
   "cell_type": "code",
   "execution_count": 10,
   "id": "d167df70-d140-44db-bb51-0a1dc484ce20",
   "metadata": {},
   "outputs": [],
   "source": [
    "import numpy as np\n",
    "from matplotlib import pyplot as plt\n",
    "import seaborn as sns\n",
    "from tqdm import tqdm\n",
    "\n",
    "from tic_env import TictactoeEnv, OptimalPlayer"
   ]
  },
  {
   "cell_type": "code",
   "execution_count": 11,
   "id": "2cd518e2-e4c1-499f-91f5-1ce22f67b693",
   "metadata": {},
   "outputs": [],
   "source": [
    "import torch\n",
    "import torch.nn as nn\n",
    "import torch.optim as optim\n",
    "from collections import namedtuple, deque \n",
    "from random import random, sample, randint"
   ]
  },
  {
   "cell_type": "code",
   "execution_count": 24,
   "id": "a2b91d20-44ad-4f49-9ed8-384097839223",
   "metadata": {},
   "outputs": [],
   "source": [
    "from collections import defaultdict\n",
    "from random import randint\n",
    "from random import random\n",
    "\n",
    "def act(q_values, grid, epsilon):\n",
    "    return act_random(grid) if random()<epsilon else act_optimal(q_values, grid)\n",
    "\n",
    "def act_random(grid):\n",
    "    actions = [(x,y) for x in range(3) for y in range(3) if valid_move(grid, (x,y))]\n",
    "    move = actions[randint(0,len(actions)-1)]\n",
    "    return move\n",
    "\n",
    "\n",
    "\n",
    "def act_optimal(q_values, grid):\n",
    "    actions = [(x,y) for x in range(3) for y in range(3) if valid_move(grid, (x,y))]\n",
    "    actions_values = list([q_value(q_values, grid, a) for a in actions])\n",
    "        \n",
    "    move = actions[agrmax(actions_values)]\n",
    "    return move\n",
    "\n",
    "def q_value(q_values, grid, action):\n",
    "    return q_values[(grid_repr(grid), action)]\n",
    "    \n",
    "    \n",
    "def valid_move(grid, move):\n",
    "    return grid[move] == 0\n",
    "\n",
    "def agrmax(array):\n",
    "    return np.argmax(np.array(array))\n",
    "\n",
    "def grid_repr(grid):\n",
    "    between_0_2 = grid.reshape((9))+1\n",
    "    power_of_3 = 3**np.arange(9)\n",
    "    return (between_0_2*power_of_3).sum()\n",
    "\n",
    "def update_qvalue_end(q_values, state, action, next_state, reward, alpha=0.05, gamma=0.99):\n",
    "    if state is not None and action is not None:\n",
    "        estimated_q = q_value(q_values, state, action)\n",
    "        next_state_value = 0 if next_state is None else q_value(q_values, next_state, act_optimal(q_values,next_state))\n",
    "        delta_q = reward + gamma*next_state_value  - estimated_q\n",
    "        q_values[(grid_repr(state), action)] = estimated_q+alpha*delta_q\n",
    "\n",
    "\n",
    "\n"
   ]
  },
  {
   "cell_type": "code",
   "execution_count": 34,
   "id": "6f2f8f2d-ee90-4c52-94ed-4f878a4c056d",
   "metadata": {},
   "outputs": [],
   "source": [
    "def epsilon(n, n_star, epsilon_min = 0.1, epsilon_max = 0.8):\n",
    "    return np.maximum(epsilon_min, epsilon_max*(1-n/n_star))\n",
    "\n",
    "def play_epsilon_n_strategy(n_star, n_games = 20000, player_opt_epsilon = 0.5, average_length = 250.0):\n",
    "    env = TictactoeEnv()\n",
    "    Turns = np.array(['X','O'])\n",
    "    q_values = defaultdict(lambda : 0)\n",
    "    \n",
    "    array_length = int(n_games/average_length)\n",
    "    \n",
    "    avg_rewards = np.empty(array_length, float) #list that stores the avg reward for each 'average_length' games\n",
    "    \n",
    "    M_opts = np.empty(array_length, float) #list that stores the M_opt for each 'average length' games\n",
    "    M_rands = np.empty(array_length, float) #list that stores the M_opt for each 'average length' games\n",
    "    \n",
    "    s = 0 # variable which summs the average reward every 250 games  \n",
    "    k = 0 # array_index\n",
    "    \n",
    "    player_opt = OptimalPlayer(epsilon=player_opt_epsilon, player=Turns[0])\n",
    "    \n",
    "    for i in tqdm(range(n_games)):\n",
    "        grid, _, __ = env.observe()\n",
    "        player_opt.player = Turns[np.mod(i,2)] #switching first player per game\n",
    "        \n",
    "        last_state = None\n",
    "        last_action = None\n",
    "        \n",
    "\n",
    "        for j in range(9):\n",
    "            if env.current_player == player_opt.player:\n",
    "                move = player_opt.act(grid)\n",
    "            else:\n",
    "                move = act(q_values, grid, epsilon(i, n_star))\n",
    "                \n",
    "                update_qvalue_end(q_values, last_state, last_action, grid, 0)\n",
    "                \n",
    "                last_state = grid\n",
    "                last_action = move\n",
    "\n",
    "            grid, end, winner = env.step(move, print_grid=False)\n",
    "\n",
    "            if end:\n",
    "                    \n",
    "                q_player_reward = env.reward(player=Turns[np.mod(i+1,2)])\n",
    "\n",
    "                # Storing q_player_reward\n",
    "                s += q_player_reward \n",
    "                if np.mod(i+1, average_length) == 0:\n",
    "                    avg_rewards[k] = s / 250.0\n",
    "                    s = 0\n",
    "                                    \n",
    "                    #Computing M_Opt\n",
    "                    M_opts[k] = compute_M(q_values, 0.0)\n",
    "                    \n",
    "                    #Computing M_rand\n",
    "                    M_rands[k] = compute_M(q_values, 1.0)\n",
    "                    \n",
    "                    k += 1\n",
    "                    \n",
    "                update_qvalue_end(q_values, last_state, last_action, None, q_player_reward)\n",
    "\n",
    "\n",
    "                env.reset()\n",
    "                break\n",
    "                \n",
    "    return avg_rewards, M_opts, M_rands\n",
    "    "
   ]
  },
  {
   "cell_type": "code",
   "execution_count": 35,
   "id": "8844101f-d8e0-4375-bd22-c5edabfbc210",
   "metadata": {},
   "outputs": [],
   "source": [
    "def compute_M(q_values, epsilon, n_games = 500):\n",
    "    env = TictactoeEnv()\n",
    "    Turns = np.array(['X','O'])\n",
    "    \n",
    "   \n",
    "    win_minus_loss = 0\n",
    "    \n",
    "    player_opt = OptimalPlayer(epsilon=epsilon, player=Turns[1])\n",
    "    \n",
    "    for i in range(n_games):\n",
    "        grid, _, __ = env.observe()\n",
    "        \n",
    "        #QPlayer plays first for the first 250 games and we switch to the optimal player after n_games/2 games\n",
    "        if i == n_games//2 :\n",
    "            player_opt.player = Turns[0]\n",
    "        \n",
    "        for j in range(9):\n",
    "            if env.current_player == player_opt.player:\n",
    "                move = player_opt.act(grid)\n",
    "            else:\n",
    "                move = act_optimal(q_values, grid)\n",
    "\n",
    "            grid, end, winner = env.step(move, print_grid=False)\n",
    "\n",
    "            if end:\n",
    "                win_minus_loss += env.reward(player=Turns[0 if n_games//2>i else 1])\n",
    "                env.reset()\n",
    "                break\n",
    "    \n",
    "   \n",
    "    return (win_minus_loss)/n_games\n",
    "        "
   ]
  },
  {
   "cell_type": "code",
   "execution_count": 36,
   "id": "dff1ef88-d642-448b-a38a-f064b8b047b8",
   "metadata": {},
   "outputs": [
    {
     "name": "stderr",
     "output_type": "stream",
     "text": [
      "100%|███████████████████████████████████████| 5000/5000 [01:04<00:00, 77.49it/s]\n"
     ]
    }
   ],
   "source": [
    "result =  play_epsilon_n_strategy(1, n_games = 5000, player_opt_epsilon = 0.5, average_length = 250.0) "
   ]
  },
  {
   "cell_type": "code",
   "execution_count": 39,
   "id": "cead3721-d285-491e-9edd-c1c9086ede81",
   "metadata": {
    "tags": []
   },
   "outputs": [
    {
     "data": {
      "text/plain": [
       "[<matplotlib.lines.Line2D at 0x7f38706a81f0>]"
      ]
     },
     "execution_count": 39,
     "metadata": {},
     "output_type": "execute_result"
    },
    {
     "data": {
      "image/png": "[encoded data removed]",
      "text/plain": [
       "<Figure size 432x288 with 1 Axes>"
      ]
     },
     "metadata": {
      "needs_background": "light"
     },
     "output_type": "display_data"
    }
   ],
   "source": [
    "plt.plot(result[2])"
   ]
  },
  {
   "cell_type": "code",
   "execution_count": 38,
   "id": "194e1750-4271-45ad-937a-dbdafc29be37",
   "metadata": {},
   "outputs": [
    {
     "data": {
      "text/plain": [
       "[<matplotlib.lines.Line2D at 0x7f3870661990>]"
      ]
     },
     "execution_count": 38,
     "metadata": {},
     "output_type": "execute_result"
    },
    {
     "data": {
      "image/png": "[encoded data removed]",
      "text/plain": [
       "<Figure size 432x288 with 1 Axes>"
      ]
     },
     "metadata": {
      "needs_background": "light"
     },
     "output_type": "display_data"
    }
   ],
   "source": [
    "plt.plot(result[1])"
   ]
  },
  {
   "cell_type": "code",
   "execution_count": 42,
   "id": "0b760947-c010-4dd4-8339-ddbfdd1a2bd1",
   "metadata": {},
   "outputs": [],
   "source": [
    "def play_against_self_strategy(epsilon, n_games = 20000, average_length = 250.0):\n",
    "    env = TictactoeEnv()\n",
    "    Turns = np.array(['X','O'])\n",
    "    \n",
    "    q_values = defaultdict(lambda : 0)\n",
    "   \n",
    "    \n",
    "   \n",
    "    \n",
    "    array_length = int(n_games/average_length)\n",
    "    \n",
    "    M_opts = np.empty(array_length, float) #list that stores the M_opt for each 'average length' games\n",
    "    M_rands = np.empty(array_length, float) #list that stores the M_opt for each 'average length' games\n",
    "    \n",
    "    k = 0\n",
    "    \n",
    "    for i in tqdm(range(n_games)):\n",
    "        grid, _, __ = env.observe()\n",
    "        last_state_1 = None\n",
    "        last_action_1 = None\n",
    "        \n",
    "        last_state_2 = None\n",
    "        last_action_2 = None\n",
    "    \n",
    "        q_player_two_turn = Turns[np.mod(i,2)] #Switching who starts at each iteration between q_player_one and q_player_two\n",
    "    \n",
    "        for j in range(9):\n",
    "            \n",
    "            move = act(q_values, grid, epsilon)\n",
    "            if env.current_player == 'X':\n",
    "                update_qvalue_end(q_values, last_state_1, last_action_1, grid, 0)\n",
    "                last_state_1 = grid\n",
    "                last_action_1 = move\n",
    "            else:\n",
    "                update_qvalue_end(q_values, last_state_2, last_action_2, grid, 0)\n",
    "                last_state_2 = grid\n",
    "                last_action_2 = move\n",
    "            \n",
    "            grid, end, winner = env.step(move, print_grid=False)\n",
    " \n",
    "            \n",
    "            if end:\n",
    "                    \n",
    "                \n",
    "                if np.mod(i+1, average_length) == 0:\n",
    "                  \n",
    "                    #Computing M_Opq_player_one.epsilont\n",
    "                    M_opts[k] = compute_M(q_values, 0.0)\n",
    "                  \n",
    "                    \n",
    "                    #Computing M_rand\n",
    "                    M_rands[k] = compute_M(q_values, 1.0)\n",
    "                    \n",
    "                    k += 1\n",
    "                \n",
    "                update_qvalue_end(q_values, last_state_1, last_action_1, None, env.reward('X'))\n",
    "                update_qvalue_end(q_values, last_state_2, last_action_2, None, env.reward('O'))\n",
    "        \n",
    "\n",
    "                env.reset()\n",
    "                break\n",
    "                \n",
    "    return M_opts, M_rands"
   ]
  },
  {
   "cell_type": "code",
   "execution_count": 43,
   "id": "278e5870-f1b1-4275-99d1-69b9d6035444",
   "metadata": {},
   "outputs": [
    {
     "name": "stderr",
     "output_type": "stream",
     "text": [
      "100%|███████████████████████████████████████| 5000/5000 [01:06<00:00, 75.29it/s]\n"
     ]
    }
   ],
   "source": [
    "M_opts, M_rands = play_against_self_strategy(0.5, n_games = 5000, average_length = 250.0)"
   ]
  },
  {
   "cell_type": "code",
   "execution_count": 45,
   "id": "c50708a9-6a0b-45c5-9090-79e16582a924",
   "metadata": {},
   "outputs": [
    {
     "data": {
      "text/plain": [
       "[<matplotlib.lines.Line2D at 0x7f386be1cbb0>]"
      ]
     },
     "execution_count": 45,
     "metadata": {},
     "output_type": "execute_result"
    },
    {
     "data": {
      "image/png": "[encoded data removed]",
      "text/plain": [
       "<Figure size 432x288 with 1 Axes>"
      ]
     },
     "metadata": {
      "needs_background": "light"
     },
     "output_type": "display_data"
    }
   ],
   "source": [
    "plt.plot(M_opts)"
   ]
  },
  {
   "cell_type": "code",
   "execution_count": 46,
   "id": "1d586a2a-fab7-42f0-8eb0-47051cb5a07f",
   "metadata": {},
   "outputs": [
    {
     "data": {
      "text/plain": [
       "[<matplotlib.lines.Line2D at 0x7f386befefb0>]"
      ]
     },
     "execution_count": 46,
     "metadata": {},
     "output_type": "execute_result"
    },
    {
     "data": {
      "image/png": "[encoded data removed]",
      "text/plain": [
       "<Figure size 432x288 with 1 Axes>"
      ]
     },
     "metadata": {
      "needs_background": "light"
     },
     "output_type": "display_data"
    }
   ],
   "source": [
    "plt.plot(M_rands)"
   ]
  },
  {
   "cell_type": "code",
   "execution_count": 44,
   "id": "7cebf5bd-629c-4e22-81f1-696a0572f2c7",
   "metadata": {},
   "outputs": [],
   "source": [
    "def play_against_self_epsilon_n_strategy(n_star, n_games = 20000, average_length = 250.0):\n",
    "    env = TictactoeEnv()\n",
    "    Turns = np.array(['X','O'])\n",
    "    \n",
    "    q_values = defaultdict(lambda : 0)\n",
    "   \n",
    "    \n",
    "   \n",
    "    \n",
    "    array_length = int(n_games/average_length)\n",
    "    \n",
    "    M_opts = np.empty(array_length, float) #list that stores the M_opt for each 'average length' games\n",
    "    M_rands = np.empty(array_length, float) #list that stores the M_opt for each 'average length' games\n",
    "    \n",
    "    k = 0\n",
    "    \n",
    "    for i in tqdm(range(n_games)):\n",
    "        grid, _, __ = env.observe()\n",
    "        last_state_1 = None\n",
    "        last_action_1 = None\n",
    "        \n",
    "        last_state_2 = None\n",
    "        last_action_2 = None\n",
    "    \n",
    "        q_player_two_turn = Turns[np.mod(i,2)] #Switching who starts at each iteration between q_player_one and q_player_two\n",
    "    \n",
    "        for j in range(9):\n",
    "            \n",
    "            move = act(q_values, grid, epsilon(i,n_star))\n",
    "            if env.current_player == 'X':\n",
    "                update_qvalue_end(q_values, last_state_1, last_action_1, grid, 0)\n",
    "                last_state_1 = grid\n",
    "                last_action_1 = move\n",
    "            else:\n",
    "                update_qvalue_end(q_values, last_state_2, last_action_2, grid, 0)\n",
    "                last_state_2 = grid\n",
    "                last_action_2 = move\n",
    "            \n",
    "            grid, end, winner = env.step(move, print_grid=False)\n",
    " \n",
    "            \n",
    "            if end:\n",
    "                    \n",
    "                \n",
    "                if np.mod(i+1, average_length) == 0:\n",
    "                  \n",
    "                    #Computing M_Opq_player_one.epsilont\n",
    "                    M_opts[k] = compute_M(q_values, 0.0)\n",
    "                  \n",
    "                    \n",
    "                    #Computing M_rand\n",
    "                    M_rands[k] = compute_M(q_values, 1.0)\n",
    "                    \n",
    "                    k += 1\n",
    "                \n",
    "                update_qvalue_end(q_values, last_state_1, last_action_1, None, env.reward('X'))\n",
    "                update_qvalue_end(q_values, last_state_2, last_action_2, None, env.reward('O'))\n",
    "        \n",
    "\n",
    "                env.reset()\n",
    "                break\n",
    "                \n",
    "    return M_opts, M_rands"
   ]
  },
  {
   "cell_type": "code",
   "execution_count": 48,
   "id": "2f25d281-8744-4cc3-aafb-b2c00c3f5dc5",
   "metadata": {},
   "outputs": [
    {
     "name": "stderr",
     "output_type": "stream",
     "text": [
      "100%|███████████████████████████████████████| 5000/5000 [01:13<00:00, 67.97it/s]\n"
     ]
    }
   ],
   "source": [
    "M_opts, M_rands = play_against_self_epsilon_n_strategy(4000, n_games = 5000, average_length = 250.0)"
   ]
  },
  {
   "cell_type": "code",
   "execution_count": 49,
   "id": "c47b8d99-1569-45ec-9814-f9b00f83ef94",
   "metadata": {},
   "outputs": [
    {
     "data": {
      "text/plain": [
       "[<matplotlib.lines.Line2D at 0x7f386bdd42e0>]"
      ]
     },
     "execution_count": 49,
     "metadata": {},
     "output_type": "execute_result"
    },
    {
     "data": {
      "image/png": "[encoded data removed]",
      "text/plain": [
       "<Figure size 432x288 with 1 Axes>"
      ]
     },
     "metadata": {
      "needs_background": "light"
     },
     "output_type": "display_data"
    }
   ],
   "source": [
    "plt.plot(M_opts)"
   ]
  },
  {
   "cell_type": "code",
   "execution_count": 50,
   "id": "0043dc56-645c-4e6e-98e5-20978ef769d4",
   "metadata": {},
   "outputs": [
    {
     "data": {
      "text/plain": [
       "[<matplotlib.lines.Line2D at 0x7f386bc02d70>]"
      ]
     },
     "execution_count": 50,
     "metadata": {},
     "output_type": "execute_result"
    },
    {
     "data": {
      "image/png": "[encoded data removed]",
      "text/plain": [
       "<Figure size 432x288 with 1 Axes>"
      ]
     },
     "metadata": {
      "needs_background": "light"
     },
     "output_type": "display_data"
    }
   ],
   "source": [
    "plt.plot(M_rands)"
   ]
  },
  {
   "cell_type": "code",
   "execution_count": 51,
   "id": "6cb0aa74-dd57-4fe3-b2b2-47df45d890e9",
   "metadata": {},
   "outputs": [],
   "source": [
    "def train_against_self_epsilon_n_strategy(n_star, n_games = 20000, average_length = 250.0):\n",
    "    env = TictactoeEnv()\n",
    "   \n",
    "    \n",
    "    q_values = defaultdict(lambda : 0)\n",
    "   \n",
    "    \n",
    "    \n",
    "    \n",
    "    for i in tqdm(range(n_games)):\n",
    "        \n",
    "        \n",
    "        #Switching who starts at each iteration between q_player_one and q_player_two\n",
    "        play_a_game(q_values, epsilon(i,n_star))\n",
    "    \n",
    "       \n",
    "       \n",
    "                    \n",
    "            \n",
    "    return q_values\n",
    "\n",
    "def play_a_game(q_values, epsilon):\n",
    "    env = TictactoeEnv()\n",
    "    last_state_1 = None\n",
    "    last_action_1 = None\n",
    "        \n",
    "    last_state_2 = None\n",
    "    last_action_2 = None\n",
    "    \n",
    "    grid, _, __ = env.observe()\n",
    "    for j in range(9):\n",
    "            \n",
    "            move = act(q_values, grid, epsilon)\n",
    "            if env.current_player == 'X':\n",
    "                update_qvalue_end(q_values, last_state_1, last_action_1, grid, 0)\n",
    "                last_state_1 = grid\n",
    "                last_action_1 = move\n",
    "            else:\n",
    "                update_qvalue_end(q_values, last_state_2, last_action_2, grid, 0)\n",
    "                last_state_2 = grid\n",
    "                last_action_2 = move\n",
    "            \n",
    "            grid, end, winner = env.step(move, print_grid=False)\n",
    " \n",
    "            \n",
    "            if end:\n",
    "                    \n",
    "                update_qvalue_end(q_values, last_state_1, last_action_1, None, env.reward('X'))\n",
    "                update_qvalue_end(q_values, last_state_2, last_action_2, None, env.reward('O'))\n",
    "                \n",
    "                return "
   ]
  },
  {
   "cell_type": "code",
   "execution_count": 53,
   "id": "bdbdd943-80e8-4c9e-9f12-016905d3faee",
   "metadata": {},
   "outputs": [
    {
     "name": "stderr",
     "output_type": "stream",
     "text": [
      "100%|██████████████████████████████████████| 5000/5000 [00:21<00:00, 235.56it/s]\n"
     ]
    }
   ],
   "source": [
    "q_values = train_against_self_epsilon_n_strategy(4000, n_games = 5000, average_length = 250.0)"
   ]
  },
  {
   "cell_type": "code",
   "execution_count": 54,
   "id": "fadcc5cf-1d85-48f0-8233-960338854ec5",
   "metadata": {},
   "outputs": [
    {
     "data": {
      "text/plain": [
       "-0.386"
      ]
     },
     "execution_count": 54,
     "metadata": {},
     "output_type": "execute_result"
    }
   ],
   "source": [
    "compute_M(q_values, 0, n_games = 500)"
   ]
  },
  {
   "cell_type": "code",
   "execution_count": 55,
   "id": "2246d0d5-f071-4860-8452-665fc9bb50cb",
   "metadata": {},
   "outputs": [
    {
     "data": {
      "text/plain": [
       "0.598"
      ]
     },
     "execution_count": 55,
     "metadata": {},
     "output_type": "execute_result"
    }
   ],
   "source": [
    "compute_M(q_values, 1, n_games = 500)"
   ]
  },
  {
   "cell_type": "code",
   "execution_count": null,
   "id": "a7e5bfea-5fcd-41ca-98b4-7c03bb8ef3cb",
   "metadata": {},
   "outputs": [],
   "source": []
  }
 ],
 "metadata": {
  "kernelspec": {
   "display_name": "Python 3 (ipykernel)",
   "language": "python",
   "name": "python3"
  },
  "language_info": {
   "codemirror_mode": {
    "name": "ipython",
    "version": 3
   },
   "file_extension": ".py",
   "mimetype": "text/x-python",
   "name": "python",
   "nbconvert_exporter": "python",
   "pygments_lexer": "ipython3",
   "version": "3.10.4"
  }
 },
 "nbformat": 4,
 "nbformat_minor": 5
}
